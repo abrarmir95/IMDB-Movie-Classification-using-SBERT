{
 "cells": [
  {
   "cell_type": "code",
   "execution_count": 1,
   "id": "289d762b-e16a-4aa2-912a-587a675432d2",
   "metadata": {},
   "outputs": [],
   "source": [
    "import numpy as np\n",
    "import pandas as pd"
   ]
  },
  {
   "cell_type": "code",
   "execution_count": 2,
   "id": "7c7b2a7b-ccec-42f4-9c40-75e2b0d619a7",
   "metadata": {},
   "outputs": [],
   "source": [
    "#Loading dataset\n",
    "df=pd.read_csv('IMDB_dataset_w2v.csv')"
   ]
  },
  {
   "cell_type": "code",
   "execution_count": 3,
   "id": "09963e24-407f-4d64-9bc6-b435d8c2b8d8",
   "metadata": {},
   "outputs": [
    {
     "data": {
      "text/html": [
       "<div>\n",
       "<style scoped>\n",
       "    .dataframe tbody tr th:only-of-type {\n",
       "        vertical-align: middle;\n",
       "    }\n",
       "\n",
       "    .dataframe tbody tr th {\n",
       "        vertical-align: top;\n",
       "    }\n",
       "\n",
       "    .dataframe thead th {\n",
       "        text-align: right;\n",
       "    }\n",
       "</style>\n",
       "<table border=\"1\" class=\"dataframe\">\n",
       "  <thead>\n",
       "    <tr style=\"text-align: right;\">\n",
       "      <th></th>\n",
       "      <th>review</th>\n",
       "      <th>sentiment</th>\n",
       "    </tr>\n",
       "  </thead>\n",
       "  <tbody>\n",
       "    <tr>\n",
       "      <th>0</th>\n",
       "      <td>One of the other reviewers has mentioned that ...</td>\n",
       "      <td>positive</td>\n",
       "    </tr>\n",
       "    <tr>\n",
       "      <th>1</th>\n",
       "      <td>A wonderful little production. &lt;br /&gt;&lt;br /&gt;The...</td>\n",
       "      <td>positive</td>\n",
       "    </tr>\n",
       "    <tr>\n",
       "      <th>2</th>\n",
       "      <td>I thought this was a wonderful way to spend ti...</td>\n",
       "      <td>positive</td>\n",
       "    </tr>\n",
       "    <tr>\n",
       "      <th>3</th>\n",
       "      <td>Basically there's a family where a little boy ...</td>\n",
       "      <td>negative</td>\n",
       "    </tr>\n",
       "    <tr>\n",
       "      <th>4</th>\n",
       "      <td>Petter Mattei's \"Love in the Time of Money\" is...</td>\n",
       "      <td>positive</td>\n",
       "    </tr>\n",
       "  </tbody>\n",
       "</table>\n",
       "</div>"
      ],
      "text/plain": [
       "                                              review sentiment\n",
       "0  One of the other reviewers has mentioned that ...  positive\n",
       "1  A wonderful little production. <br /><br />The...  positive\n",
       "2  I thought this was a wonderful way to spend ti...  positive\n",
       "3  Basically there's a family where a little boy ...  negative\n",
       "4  Petter Mattei's \"Love in the Time of Money\" is...  positive"
      ]
     },
     "execution_count": 3,
     "metadata": {},
     "output_type": "execute_result"
    }
   ],
   "source": [
    "df.head()"
   ]
  },
  {
   "cell_type": "code",
   "execution_count": 22,
   "id": "781d8ee0-d152-4518-a1ad-cd5987eda4ad",
   "metadata": {},
   "outputs": [],
   "source": [
    "#Defining dependant and independant features\n",
    "X=df['review'].tolist()\n",
    "y=df['sentiment']"
   ]
  },
  {
   "cell_type": "code",
   "execution_count": 25,
   "id": "14f038f2-c7d2-4902-a2d5-67482d5fdb2e",
   "metadata": {},
   "outputs": [],
   "source": [
    "y=pd.get_dummies(y)"
   ]
  },
  {
   "cell_type": "code",
   "execution_count": null,
   "id": "45ba67ef-a2c5-4b1a-bdff-542e6768e4bf",
   "metadata": {},
   "outputs": [],
   "source": [
    "y"
   ]
  },
  {
   "cell_type": "code",
   "execution_count": 27,
   "id": "a420f23e-69f4-43dd-af97-00216bf653bb",
   "metadata": {},
   "outputs": [],
   "source": [
    "y=y[\"positive\"].values"
   ]
  },
  {
   "cell_type": "code",
   "execution_count": 28,
   "id": "8e1646f8-87f7-4d4b-865a-3d3012e7dd06",
   "metadata": {},
   "outputs": [
    {
     "data": {
      "text/plain": [
       "array([1, 1, 1, ..., 0, 0, 0], dtype=uint8)"
      ]
     },
     "execution_count": 28,
     "metadata": {},
     "output_type": "execute_result"
    }
   ],
   "source": [
    "y"
   ]
  },
  {
   "cell_type": "code",
   "execution_count": 29,
   "id": "a1b3a324-2959-47c1-8e6e-f34ac6b508b1",
   "metadata": {},
   "outputs": [],
   "source": [
    "#train/test split\n",
    "from sklearn.model_selection import train_test_split\n",
    "X_train, X_test, y_train, y_test=train_test_split(X,y, test_size=0.20, random_state=45)"
   ]
  },
  {
   "cell_type": "code",
   "execution_count": 30,
   "id": "4df2a25a-c5d4-4332-bfac-54b6fe402d3f",
   "metadata": {},
   "outputs": [],
   "source": [
    "#Importing SentenceTransformer\n",
    "import sentence_transformers\n",
    "from sentence_transformers import SentenceTransformer"
   ]
  },
  {
   "cell_type": "code",
   "execution_count": 31,
   "id": "dd0c52e8-8776-464e-9bc4-0f252cc2ba93",
   "metadata": {},
   "outputs": [],
   "source": [
    "#Loading bert model\n",
    "sbert_model=SentenceTransformer('all-MiniLM-L6-v2')"
   ]
  },
  {
   "cell_type": "code",
   "execution_count": 56,
   "id": "7dadc45f-1a8d-4fd1-9fc2-7a716c48b355",
   "metadata": {},
   "outputs": [
    {
     "data": {
      "text/plain": [
       "40000"
      ]
     },
     "execution_count": 56,
     "metadata": {},
     "output_type": "execute_result"
    }
   ],
   "source": [
    "len(X_train)"
   ]
  },
  {
   "cell_type": "code",
   "execution_count": 32,
   "id": "7898e849-19cb-4378-8b78-2988ec8e8523",
   "metadata": {},
   "outputs": [],
   "source": [
    "# generating word embeddings for training data\n",
    "train_comment_embeddings = sbert_model.encode(X_train)"
   ]
  },
  {
   "cell_type": "code",
   "execution_count": 33,
   "id": "c9a6f126-c15b-491b-9ba3-7ec269c4c8f8",
   "metadata": {},
   "outputs": [],
   "source": [
    "# generating word embeddings for test data \n",
    "test_comment_embeddings = sbert_model.encode(X_test)"
   ]
  },
  {
   "cell_type": "code",
   "execution_count": 34,
   "id": "d2afdfbd-c9fd-4db1-9dd0-923f22a65281",
   "metadata": {},
   "outputs": [],
   "source": [
    "#Redefining training/testing variables\n",
    "Xtrain=train_comment_embeddings\n",
    "ytrain=y_train\n",
    "Xtest=test_comment_embeddings\n",
    "ytest=y_test"
   ]
  },
  {
   "cell_type": "code",
   "execution_count": 37,
   "id": "de9ca400-890d-4f30-82f4-3f39e5465633",
   "metadata": {},
   "outputs": [],
   "source": [
    "# defining confusion matrix\n",
    "def classification_report(ytest, ypred):\n",
    "    '''Plotting confusion matrix'''\n",
    "    skplt.plot_confusion_matrix(ytest,ypred)\n",
    "    plt.show()"
   ]
  },
  {
   "cell_type": "code",
   "execution_count": null,
   "id": "eea03ce3-1a4f-439b-9ad8-82291af5f61b",
   "metadata": {},
   "outputs": [],
   "source": [
    "#Building model: SVC\n",
    "from sklearn.svm import SVC\n",
    "svclassifier = SVC(kernel='linear')\n",
    "svclassifier.fit(Xtrain, ytrain)\n",
    "y_pred = svclassifier.predict(Xtest)\n",
    "\n",
    "a=ytest.shape[0]\n",
    "b=(ytest!=y_pred).sum()\n"
   ]
  },
  {
   "cell_type": "code",
   "execution_count": 43,
   "id": "6fab7cb0-10f3-485a-a8bb-072d43d9c595",
   "metadata": {},
   "outputs": [
    {
     "name": "stdout",
     "output_type": "stream",
     "text": [
      "Accuracy =81.590000%\n"
     ]
    },
    {
     "name": "stderr",
     "output_type": "stream",
     "text": [
      "C:\\Users\\DELL\\anaconda3\\Lib\\site-packages\\sklearn\\utils\\deprecation.py:86: FutureWarning: Function plot_confusion_matrix is deprecated; This will be removed in v0.4.0. Please use scikitplot.metrics.plot_confusion_matrix instead.\n",
      "  warnings.warn(msg, category=FutureWarning)\n"
     ]
    },
    {
     "data": {
      "image/png": "[encoded data removed]",
      "text/plain": [
       "<Figure size 640x480 with 2 Axes>"
      ]
     },
     "metadata": {},
     "output_type": "display_data"
    }
   ],
   "source": [
    "import scikitplot.plotters as skplt\n",
    "import matplotlib.pyplot as plt\n",
    "print(\"Accuracy =\"+format((a-b)/a*100,'2f')+\"%\")\n",
    "#print(classification_report(ytest, y_pred))\n",
    "plot_cmat(ytest, y_pred)"
   ]
  },
  {
   "cell_type": "code",
   "execution_count": null,
   "id": "49a47afa-1967-48b3-9591-ae5427021709",
   "metadata": {},
   "outputs": [],
   "source": [
    "#LogisticRegression\n",
    "from sklearn.linear_model import LogisticRegression\n",
    "lr=LogisticRegression()\n",
    "\n",
    "lr.fit(Xtrain, ytrain)\n",
    "\n",
    "pred=lr.predict(Xtest)\n",
    "\n"
   ]
  },
  {
   "cell_type": "code",
   "execution_count": 52,
   "id": "71566d3a-f130-4c30-a3e1-e92f45098b5e",
   "metadata": {},
   "outputs": [
    {
     "data": {
      "text/plain": [
       "81.23"
      ]
     },
     "execution_count": 52,
     "metadata": {},
     "output_type": "execute_result"
    }
   ],
   "source": [
    "#Model performance evaluation\n",
    "from sklearn.metrics import accuracy_score\n",
    "accuracy_score(ytest, pred)*100"
   ]
  },
  {
   "cell_type": "code",
   "execution_count": null,
   "id": "0ba10b5c-005a-4a97-afea-55d4140229ca",
   "metadata": {},
   "outputs": [],
   "source": []
  }
 ],
 "metadata": {
  "kernelspec": {
   "display_name": "Python 3 (ipykernel)",
   "language": "python",
   "name": "python3"
  },
  "language_info": {
   "codemirror_mode": {
    "name": "ipython",
    "version": 3
   },
   "file_extension": ".py",
   "mimetype": "text/x-python",
   "name": "python",
   "nbconvert_exporter": "python",
   "pygments_lexer": "ipython3",
   "version": "3.11.7"
  }
 },
 "nbformat": 4,
 "nbformat_minor": 5
}
